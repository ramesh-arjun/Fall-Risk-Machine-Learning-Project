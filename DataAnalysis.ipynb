{
 "cells": [
  {
   "cell_type": "code",
   "execution_count": 15,
   "metadata": {},
   "outputs": [],
   "source": [
    "import pandas as pd\n",
    "from sklearn.preprocessing import LabelEncoder\n",
    "\n",
    "data = pd.read_csv('ParticipantsData.csv')\n",
    "\n",
    "# Clean the data\n",
    "sex_encoder = LabelEncoder()\n",
    "data['Sex'] = sex_encoder.fit_transform(data['Sex'])\n",
    "\n",
    "tug_risk_encoder = LabelEncoder()\n",
    "data['TUG_Risk'] = tug_risk_encoder.fit_transform(data['TUG_Risk'])\n",
    "\n",
    "data.to_csv('cleaned_ParticipantsData.csv', index=False)"
   ]
  },
  {
   "cell_type": "code",
   "execution_count": 16,
   "metadata": {},
   "outputs": [
    {
     "name": "stdout",
     "output_type": "stream",
     "text": [
      "                            OLS Regression Results                            \n",
      "==============================================================================\n",
      "Dep. Variable:               TUG_Risk   R-squared:                       0.150\n",
      "Model:                            OLS   Adj. R-squared:                 -0.079\n",
      "Method:                 Least Squares   F-statistic:                    0.6553\n",
      "Date:                Fri, 19 Apr 2024   Prob (F-statistic):              0.707\n",
      "Time:                        14:41:36   Log-Likelihood:                -21.678\n",
      "No. Observations:                  34   AIC:                             59.36\n",
      "Df Residuals:                      26   BIC:                             71.57\n",
      "Df Model:                           7                                         \n",
      "Covariance Type:            nonrobust                                         \n",
      "======================================================================================\n",
      "                         coef    std err          t      P>|t|      [0.025      0.975]\n",
      "--------------------------------------------------------------------------------------\n",
      "const                  0.6440      0.207      3.106      0.005       0.218       1.070\n",
      "Exercise_Behavior     -0.0347      0.037     -0.936      0.358      -0.111       0.042\n",
      "Smoking_Behavior      -0.4010      0.551     -0.728      0.473      -1.533       0.731\n",
      "UD_HighBloodPress     -0.0765      0.201     -0.380      0.707      -0.490       0.337\n",
      "UD_HighCholesterol    -0.1671      0.230     -0.725      0.475      -0.641       0.306\n",
      "UD_Diabetes           -0.1555      0.336     -0.463      0.647      -0.846       0.535\n",
      "UD_MuscleWeakness      0.2995      0.275      1.088      0.287      -0.266       0.865\n",
      "UD_Stroke              0.4601      0.543      0.848      0.404      -0.655       1.576\n",
      "UD_HeartDisease        0.2995      0.275      1.088      0.287      -0.266       0.865\n",
      "==============================================================================\n",
      "Omnibus:                       27.098   Durbin-Watson:                   2.394\n",
      "Prob(Omnibus):                  0.000   Jarque-Bera (JB):                4.099\n",
      "Skew:                           0.333   Prob(JB):                        0.129\n",
      "Kurtosis:                       1.435   Cond. No.                     2.73e+17\n",
      "==============================================================================\n",
      "\n",
      "Notes:\n",
      "[1] Standard Errors assume that the covariance matrix of the errors is correctly specified.\n",
      "[2] The smallest eigenvalue is 1.02e-32. This might indicate that there are\n",
      "strong multicollinearity problems or that the design matrix is singular.\n"
     ]
    }
   ],
   "source": [
    "# Multiple Linear Regression\n",
    "import statsmodels.api as sm\n",
    "\n",
    "data = pd.read_csv('cleaned_ParticipantsData.csv')\n",
    "\n",
    "X = data[['Exercise_Behavior', 'Smoking_Behavior', 'UD_HighBloodPress', 'UD_HighCholesterol', \n",
    "          'UD_Diabetes', 'UD_MuscleWeakness', 'UD_Stroke', 'UD_HeartDisease']]\n",
    "y = data['TUG_Risk']\n",
    "\n",
    "X = sm.add_constant(X)\n",
    "\n",
    "model = sm.OLS(y, X).fit()\n",
    "\n",
    "print(model.summary())"
   ]
  }
 ],
 "metadata": {
  "kernelspec": {
   "display_name": "Python 3",
   "language": "python",
   "name": "python3"
  },
  "language_info": {
   "codemirror_mode": {
    "name": "ipython",
    "version": 3
   },
   "file_extension": ".py",
   "mimetype": "text/x-python",
   "name": "python",
   "nbconvert_exporter": "python",
   "pygments_lexer": "ipython3",
   "version": "3.10.6"
  }
 },
 "nbformat": 4,
 "nbformat_minor": 2
}
